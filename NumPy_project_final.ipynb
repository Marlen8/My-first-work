{
  "nbformat": 4,
  "nbformat_minor": 0,
  "metadata": {
    "colab": {
      "name": "NumPy_project_final.ipynb",
      "provenance": [],
      "collapsed_sections": [],
      "authorship_tag": "ABX9TyPn5jVukr7GaJmiUTv6wUZv",
      "include_colab_link": true
    },
    "kernelspec": {
      "name": "python3",
      "display_name": "Python 3"
    },
    "language_info": {
      "name": "python"
    }
  },
  "cells": [
    {
      "cell_type": "markdown",
      "metadata": {
        "id": "view-in-github",
        "colab_type": "text"
      },
      "source": [
        "<a href=\"https://colab.research.google.com/github/Marlen8/My-first-work/blob/main/NumPy_project_final.ipynb\" target=\"_parent\"><img src=\"https://colab.research.google.com/assets/colab-badge.svg\" alt=\"Open In Colab\"/></a>"
      ]
    },
    {
      "cell_type": "code",
      "execution_count": null,
      "metadata": {
        "id": "UieT-1rRHWNZ"
      },
      "outputs": [],
      "source": [
        "import numpy as np"
      ]
    },
    {
      "cell_type": "code",
      "source": [
        "file_path = \"/content/KAG_Conversion_Data.csv\""
      ],
      "metadata": {
        "id": "cB_lR8pcHjR2"
      },
      "execution_count": null,
      "outputs": []
    },
    {
      "cell_type": "code",
      "source": [
        "from IPython.core.display import display_pretty\n",
        "data_str = np.genfromtxt(file_path , delimiter=\",\" , skip_header=1, dtype = str )\n",
        "data_float = np.genfromtxt(file_path , delimiter= \",\" , skip_header=1 , dtype = float) "
      ],
      "metadata": {
        "id": "r1_XbL7b8wPQ"
      },
      "execution_count": null,
      "outputs": []
    },
    {
      "cell_type": "code",
      "source": [
        " #step 2\n",
        "xyzcampaignid = np.array(data[:,1])\n",
        "print (xyzcampaignid)\n",
        "print((np.unique(xyzcampaignid, return_counts=True)))\n",
        "\n",
        " #clicks = np.array(data[:,7])\n",
        " #print (clicks)"
      ],
      "metadata": {
        "colab": {
          "base_uri": "https://localhost:8080/"
        },
        "id": "BvSsRUx1-Zv-",
        "outputId": "0d88b4b0-4f08-495a-9f30-6c2720756ed4"
      },
      "execution_count": null,
      "outputs": [
        {
          "output_type": "stream",
          "name": "stdout",
          "text": [
            "[ 916.  916.  916. ... 1178. 1178. 1178.]\n",
            "(array([ 916.,  936., 1178.]), array([ 54, 464, 625]))\n"
          ]
        }
      ]
    },
    {
      "cell_type": "code",
      "source": [
        ""
      ],
      "metadata": {
        "id": "b4htXSWxsvE6"
      },
      "execution_count": null,
      "outputs": []
    },
    {
      "cell_type": "code",
      "source": [
        "#step 3\n",
        "age= data_str [:,3]\n",
        "print(age.dtype)\n",
        "print(np.unique(age))\n"
      ],
      "metadata": {
        "colab": {
          "base_uri": "https://localhost:8080/"
        },
        "id": "PYr1iruHFYWv",
        "outputId": "07689d8b-4d06-4cb3-fadb-b3cc893196d1"
      },
      "execution_count": null,
      "outputs": [
        {
          "output_type": "stream",
          "name": "stdout",
          "text": [
            "<U11\n",
            "['30-34' '35-39' '40-44' '45-49']\n"
          ]
        }
      ]
    },
    {
      "cell_type": "code",
      "source": [
        "np.min(age)"
      ],
      "metadata": {
        "colab": {
          "base_uri": "https://localhost:8080/"
        },
        "id": "zgLCI5fVujwM",
        "outputId": "ddf88f5b-ade8-42a6-a1f9-2c3647a5d3ef"
      },
      "execution_count": null,
      "outputs": [
        {
          "output_type": "execute_result",
          "data": {
            "text/plain": [
              "nan"
            ]
          },
          "metadata": {},
          "execution_count": 55
        }
      ]
    },
    {
      "cell_type": "code",
      "source": [
        "#step 4\n",
        "spend = np.array(data_float[:,8])\n",
        "min_spend = spend.min()\n",
        "print (min_spend)\n",
        "max_spend = spend.max()\n",
        "print (max_spend)\n",
        "avr_spend = spend.mean()\n",
        "print(avr_spend)"
      ],
      "metadata": {
        "id": "c1Zpfvn7Gslu",
        "colab": {
          "base_uri": "https://localhost:8080/"
        },
        "outputId": "1ba83f20-6388-4edb-8984-78f8249189ab"
      },
      "execution_count": null,
      "outputs": [
        {
          "output_type": "stream",
          "name": "stdout",
          "text": [
            "0.0\n",
            "639.9499981\n",
            "51.36065613141295\n"
          ]
        }
      ]
    },
    {
      "cell_type": "code",
      "source": [
        "#step 5\n",
        "clicks = np.array(data[:,7])\n",
        "print (clicks)\n",
        "max_click = clicks.max()\n",
        "print (max_click)\n",
        "index_max_click = list(clicks).index(clicks.max())\n",
        "print(index_max_click)\n",
        "\n",
        "\n",
        "id=np.array(data_str[:,0])\n",
        "print (id[index_max_click])"
      ],
      "metadata": {
        "id": "MEMaxYX3IT61"
      },
      "execution_count": null,
      "outputs": []
    },
    {
      "cell_type": "code",
      "source": [
        "#step 6\n",
        "product_bought = np.array(data_float[:,10])\n",
        "print(product_bought[index_max_click])\n",
        "print(product_bought.max())\n",
        "product_bought_list = list(product_bought)\n",
        "index_product_bought_max = product_bought_list.index(product_bought.max())\n",
        "print(index_product_bought_max)\n"
      ],
      "metadata": {
        "colab": {
          "base_uri": "https://localhost:8080/"
        },
        "id": "6Yw0A6bT1Hqc",
        "outputId": "ed38f378-bf29-452d-c140-1136025a729c"
      },
      "execution_count": null,
      "outputs": [
        {
          "output_type": "stream",
          "name": "stdout",
          "text": [
            "13.0\n",
            "21.0\n",
            "528\n"
          ]
        }
      ]
    },
    {
      "cell_type": "code",
      "source": [
        "arr1 = np.array([25,56,12,85,34,75])\n",
        "print(arr1.shape)\n",
        "arr2=np.array([42,3,86,32,856,46])\n",
        "narr=np.random.rand(6)\n",
        "print(narr)"
      ],
      "metadata": {
        "id": "_OSdYs0ORXmW",
        "colab": {
          "base_uri": "https://localhost:8080/"
        },
        "outputId": "3b91db8a-7d72-4b26-9ecc-a590979854e4"
      },
      "execution_count": null,
      "outputs": [
        {
          "output_type": "stream",
          "name": "stdout",
          "text": [
            "(6,)\n",
            "[0.27628353 0.27652127 0.00552126 0.78901574 0.71987368 0.47360711]\n"
          ]
        }
      ]
    },
    {
      "cell_type": "code",
      "source": [
        "arr1.astype(\"complex\")"
      ],
      "metadata": {
        "colab": {
          "base_uri": "https://localhost:8080/"
        },
        "id": "ECzxiDcrq8sY",
        "outputId": "45a8136a-b6e0-490a-eba2-49b3a97d3f4b"
      },
      "execution_count": null,
      "outputs": [
        {
          "output_type": "execute_result",
          "data": {
            "text/plain": [
              "array([25.+0.j, 56.+0.j, 12.+0.j, 85.+0.j, 34.+0.j, 75.+0.j])"
            ]
          },
          "metadata": {},
          "execution_count": 43
        }
      ]
    },
    {
      "cell_type": "code",
      "source": [
        ""
      ],
      "metadata": {
        "id": "hjnZsnK1rZVZ"
      },
      "execution_count": null,
      "outputs": []
    }
  ]
}