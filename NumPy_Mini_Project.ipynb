{
  "nbformat": 4,
  "nbformat_minor": 0,
  "metadata": {
    "colab": {
      "name": "NumPy Mini Project.ipynb",
      "provenance": [],
      "collapsed_sections": [],
      "authorship_tag": "ABX9TyPJ+4KwHiyFFs0B1rRDc99V",
      "include_colab_link": true
    },
    "kernelspec": {
      "name": "python3",
      "display_name": "Python 3"
    },
    "language_info": {
      "name": "python"
    }
  },
  "cells": [
    {
      "cell_type": "markdown",
      "metadata": {
        "id": "view-in-github",
        "colab_type": "text"
      },
      "source": [
        "<a href=\"https://colab.research.google.com/github/Marlen8/My-first-work/blob/main/NumPy_Mini_Project.ipynb\" target=\"_parent\"><img src=\"https://colab.research.google.com/assets/colab-badge.svg\" alt=\"Open In Colab\"/></a>"
      ]
    },
    {
      "cell_type": "code",
      "source": [
        "import numpy as np"
      ],
      "metadata": {
        "id": "MZvE_XNrJo7M"
      },
      "execution_count": 11,
      "outputs": []
    },
    {
      "cell_type": "code",
      "execution_count": 12,
      "metadata": {
        "id": "T1gv-sgTIUt2"
      },
      "outputs": [],
      "source": [
        "file_path = 'https://raw.githubusercontent.com/Tech-i-s/techis-ds-wiki/main/DS/Step%201-4%20Data%20Processing/01_Numpy/makeSenseOfCensus.csv?token=GHSAT0AAAAAABSXOFWORINDNKD3ZXZUU2D6YSM3FLQ'"
      ]
    },
    {
      "cell_type": "code",
      "source": [
        "data = np.genfromtxt(file_path, delimiter=\",\", skip_header = 1)\n",
        "\n",
        "print(data)\n",
        "print (type(data))\n",
        "print( data.shape)\n",
        "a = np.array([[50, 9, 4, 1, 0, 0, 40, 0]])\n",
        "new_record = np.append(data,a)\n"
      ],
      "metadata": {
        "colab": {
          "base_uri": "https://localhost:8080/"
        },
        "id": "fFWaIpWOJRcy",
        "outputId": "e1570e71-1290-4a31-ce2c-666054be49b4"
      },
      "execution_count": 13,
      "outputs": [
        {
          "output_type": "stream",
          "name": "stdout",
          "text": [
            "[[39. 13.  4. ...  0. 40.  0.]\n",
            " [50. 13.  4. ...  0. 13.  0.]\n",
            " [38.  9.  4. ...  0. 40.  0.]\n",
            " ...\n",
            " [48. 13.  4. ...  0. 58.  1.]\n",
            " [40. 10.  4. ...  0. 40.  0.]\n",
            " [39. 13.  4. ...  0. 50.  1.]]\n",
            "<class 'numpy.ndarray'>\n",
            "(1000, 8)\n"
          ]
        }
      ]
    },
    {
      "cell_type": "code",
      "source": [
        "#step 2\n",
        "new_record=[[50, 9, 4, 1, 0, 0, 40, 0]]\n"
      ],
      "metadata": {
        "id": "Vz8QXyB5Not-"
      },
      "execution_count": 14,
      "outputs": []
    },
    {
      "cell_type": "code",
      "source": [
        "#step 3\n",
        "import numpy as np\n",
        "age = data[:,0]#row,columm\n",
        "min_age = min(age)\n",
        "print(min_age)\n",
        "max_age = max(age)\n",
        "print (max_age)\n",
        "mean_age = age.mean()\n",
        "print (mean_age)\n",
        "age_std = np.std(age)\n",
        "print(age_std)"
      ],
      "metadata": {
        "colab": {
          "base_uri": "https://localhost:8080/"
        },
        "id": "20qglSijTRqV",
        "outputId": "ffda348d-c416-40c8-d91d-7a104677327c"
      },
      "execution_count": 5,
      "outputs": [
        {
          "output_type": "stream",
          "name": "stdout",
          "text": [
            "17.0\n",
            "90.0\n",
            "38.051\n",
            "13.342803266180612\n"
          ]
        }
      ]
    },
    {
      "cell_type": "code",
      "source": [
        "#step 4\n",
        "race = np.array(data[:,2])\n",
        "race_0 = race==0\n",
        "race_0 =np.array(race[race_0])\n",
        "print (race_0)\n",
        "race_1 = race==1\n",
        "race_1 = np.array(race[race_1])\n",
        "print (race_1)\n",
        "race_2= race==2\n",
        "race_2 = np.array(race[race_2])\n",
        "print (race_2)\n",
        "race_3 = race==3\n",
        "race_3 = np.array(race[race_3])\n",
        "print (race_3)\n",
        "race_4 = race ==4\n",
        "race_4 = np.array (race[race_4])\n",
        "print (race_4)"
      ],
      "metadata": {
        "colab": {
          "base_uri": "https://localhost:8080/"
        },
        "id": "gpH8wQths1pj",
        "outputId": "81af7139-ade7-4fe2-d80d-3a451102c3f4"
      },
      "execution_count": 15,
      "outputs": [
        {
          "output_type": "stream",
          "name": "stdout",
          "text": [
            "[0. 0. 0. 0. 0. 0. 0. 0. 0. 0.]\n",
            "[1. 1. 1. 1. 1. 1. 1. 1. 1. 1. 1. 1. 1. 1. 1. 1. 1. 1. 1. 1. 1. 1. 1. 1.\n",
            " 1. 1. 1.]\n",
            "[2. 2. 2. 2. 2. 2. 2. 2. 2. 2. 2. 2. 2. 2. 2. 2. 2. 2. 2. 2. 2. 2. 2. 2.\n",
            " 2. 2. 2. 2. 2. 2. 2. 2. 2. 2. 2. 2. 2. 2. 2. 2. 2. 2. 2. 2. 2. 2. 2. 2.\n",
            " 2. 2. 2. 2. 2. 2. 2. 2. 2. 2. 2. 2. 2. 2. 2. 2. 2. 2. 2. 2. 2. 2. 2. 2.\n",
            " 2. 2. 2. 2. 2. 2. 2. 2. 2. 2. 2. 2. 2. 2. 2. 2. 2. 2. 2. 2. 2. 2. 2. 2.\n",
            " 2. 2. 2. 2. 2. 2. 2. 2. 2. 2. 2. 2. 2. 2.]\n",
            "[3. 3. 3. 3. 3. 3.]\n",
            "[4. 4. 4. 4. 4. 4. 4. 4. 4. 4. 4. 4. 4. 4. 4. 4. 4. 4. 4. 4. 4. 4. 4. 4.\n",
            " 4. 4. 4. 4. 4. 4. 4. 4. 4. 4. 4. 4. 4. 4. 4. 4. 4. 4. 4. 4. 4. 4. 4. 4.\n",
            " 4. 4. 4. 4. 4. 4. 4. 4. 4. 4. 4. 4. 4. 4. 4. 4. 4. 4. 4. 4. 4. 4. 4. 4.\n",
            " 4. 4. 4. 4. 4. 4. 4. 4. 4. 4. 4. 4. 4. 4. 4. 4. 4. 4. 4. 4. 4. 4. 4. 4.\n",
            " 4. 4. 4. 4. 4. 4. 4. 4. 4. 4. 4. 4. 4. 4. 4. 4. 4. 4. 4. 4. 4. 4. 4. 4.\n",
            " 4. 4. 4. 4. 4. 4. 4. 4. 4. 4. 4. 4. 4. 4. 4. 4. 4. 4. 4. 4. 4. 4. 4. 4.\n",
            " 4. 4. 4. 4. 4. 4. 4. 4. 4. 4. 4. 4. 4. 4. 4. 4. 4. 4. 4. 4. 4. 4. 4. 4.\n",
            " 4. 4. 4. 4. 4. 4. 4. 4. 4. 4. 4. 4. 4. 4. 4. 4. 4. 4. 4. 4. 4. 4. 4. 4.\n",
            " 4. 4. 4. 4. 4. 4. 4. 4. 4. 4. 4. 4. 4. 4. 4. 4. 4. 4. 4. 4. 4. 4. 4. 4.\n",
            " 4. 4. 4. 4. 4. 4. 4. 4. 4. 4. 4. 4. 4. 4. 4. 4. 4. 4. 4. 4. 4. 4. 4. 4.\n",
            " 4. 4. 4. 4. 4. 4. 4. 4. 4. 4. 4. 4. 4. 4. 4. 4. 4. 4. 4. 4. 4. 4. 4. 4.\n",
            " 4. 4. 4. 4. 4. 4. 4. 4. 4. 4. 4. 4. 4. 4. 4. 4. 4. 4. 4. 4. 4. 4. 4. 4.\n",
            " 4. 4. 4. 4. 4. 4. 4. 4. 4. 4. 4. 4. 4. 4. 4. 4. 4. 4. 4. 4. 4. 4. 4. 4.\n",
            " 4. 4. 4. 4. 4. 4. 4. 4. 4. 4. 4. 4. 4. 4. 4. 4. 4. 4. 4. 4. 4. 4. 4. 4.\n",
            " 4. 4. 4. 4. 4. 4. 4. 4. 4. 4. 4. 4. 4. 4. 4. 4. 4. 4. 4. 4. 4. 4. 4. 4.\n",
            " 4. 4. 4. 4. 4. 4. 4. 4. 4. 4. 4. 4. 4. 4. 4. 4. 4. 4. 4. 4. 4. 4. 4. 4.\n",
            " 4. 4. 4. 4. 4. 4. 4. 4. 4. 4. 4. 4. 4. 4. 4. 4. 4. 4. 4. 4. 4. 4. 4. 4.\n",
            " 4. 4. 4. 4. 4. 4. 4. 4. 4. 4. 4. 4. 4. 4. 4. 4. 4. 4. 4. 4. 4. 4. 4. 4.\n",
            " 4. 4. 4. 4. 4. 4. 4. 4. 4. 4. 4. 4. 4. 4. 4. 4. 4. 4. 4. 4. 4. 4. 4. 4.\n",
            " 4. 4. 4. 4. 4. 4. 4. 4. 4. 4. 4. 4. 4. 4. 4. 4. 4. 4. 4. 4. 4. 4. 4. 4.\n",
            " 4. 4. 4. 4. 4. 4. 4. 4. 4. 4. 4. 4. 4. 4. 4. 4. 4. 4. 4. 4. 4. 4. 4. 4.\n",
            " 4. 4. 4. 4. 4. 4. 4. 4. 4. 4. 4. 4. 4. 4. 4. 4. 4. 4. 4. 4. 4. 4. 4. 4.\n",
            " 4. 4. 4. 4. 4. 4. 4. 4. 4. 4. 4. 4. 4. 4. 4. 4. 4. 4. 4. 4. 4. 4. 4. 4.\n",
            " 4. 4. 4. 4. 4. 4. 4. 4. 4. 4. 4. 4. 4. 4. 4. 4. 4. 4. 4. 4. 4. 4. 4. 4.\n",
            " 4. 4. 4. 4. 4. 4. 4. 4. 4. 4. 4. 4. 4. 4. 4. 4. 4. 4. 4. 4. 4. 4. 4. 4.\n",
            " 4. 4. 4. 4. 4. 4. 4. 4. 4. 4. 4. 4. 4. 4. 4. 4. 4. 4. 4. 4. 4. 4. 4. 4.\n",
            " 4. 4. 4. 4. 4. 4. 4. 4. 4. 4. 4. 4. 4. 4. 4. 4. 4. 4. 4. 4. 4. 4. 4. 4.\n",
            " 4. 4. 4. 4. 4. 4. 4. 4. 4. 4. 4. 4. 4. 4. 4. 4. 4. 4. 4. 4. 4. 4. 4. 4.\n",
            " 4. 4. 4. 4. 4. 4. 4. 4. 4. 4. 4. 4. 4. 4. 4. 4. 4. 4. 4. 4. 4. 4. 4. 4.\n",
            " 4. 4. 4. 4. 4. 4. 4. 4. 4. 4. 4. 4. 4. 4. 4. 4. 4. 4. 4. 4. 4. 4. 4. 4.\n",
            " 4. 4. 4. 4. 4. 4. 4. 4. 4. 4. 4. 4. 4. 4. 4. 4. 4. 4. 4. 4. 4. 4. 4. 4.\n",
            " 4. 4. 4. 4. 4. 4. 4. 4. 4. 4. 4. 4. 4. 4. 4. 4. 4. 4. 4. 4. 4. 4. 4. 4.\n",
            " 4. 4. 4. 4. 4. 4. 4. 4. 4. 4. 4. 4. 4. 4. 4. 4. 4. 4. 4. 4. 4. 4. 4. 4.\n",
            " 4. 4. 4. 4. 4. 4. 4. 4. 4. 4. 4. 4. 4. 4. 4. 4. 4. 4. 4. 4. 4. 4. 4. 4.\n",
            " 4. 4. 4. 4. 4. 4. 4. 4. 4. 4. 4. 4. 4. 4. 4. 4. 4. 4. 4. 4. 4. 4. 4. 4.\n",
            " 4. 4. 4. 4. 4. 4. 4.]\n"
          ]
        }
      ]
    },
    {
      "cell_type": "code",
      "source": [
        "len_0 = len(race_0)\n",
        "print(len_0)\n",
        "len_1 = len(race_1)\n",
        "print(len_1)\n",
        "len_2 = len(race_2)\n",
        "print(len_2)\n",
        "len_3 = len(race_3)\n",
        "print(len_3)\n",
        "len_4 = len(race_4)\n",
        "print(len_4)"
      ],
      "metadata": {
        "colab": {
          "base_uri": "https://localhost:8080/",
          "height": 235
        },
        "id": "13hd_NUm3QHC",
        "outputId": "1ff9b0c1-2400-4f0e-d62c-b1e2d96b6e0f"
      },
      "execution_count": 16,
      "outputs": [
        {
          "output_type": "error",
          "ename": "TypeError",
          "evalue": "ignored",
          "traceback": [
            "\u001b[0;31m---------------------------------------------------------------------------\u001b[0m",
            "\u001b[0;31mTypeError\u001b[0m                                 Traceback (most recent call last)",
            "\u001b[0;32m<ipython-input-16-2c44bf3bc20c>\u001b[0m in \u001b[0;36m<module>\u001b[0;34m()\u001b[0m\n\u001b[0;32m----> 1\u001b[0;31m \u001b[0mlen_0\u001b[0m \u001b[0;34m=\u001b[0m \u001b[0mlen\u001b[0m\u001b[0;34m(\u001b[0m\u001b[0mrace_0\u001b[0m\u001b[0;34m)\u001b[0m\u001b[0;34m\u001b[0m\u001b[0;34m\u001b[0m\u001b[0m\n\u001b[0m\u001b[1;32m      2\u001b[0m \u001b[0mprint\u001b[0m\u001b[0;34m(\u001b[0m\u001b[0mlen_0\u001b[0m\u001b[0;34m)\u001b[0m\u001b[0;34m\u001b[0m\u001b[0;34m\u001b[0m\u001b[0m\n\u001b[1;32m      3\u001b[0m \u001b[0mlen_1\u001b[0m \u001b[0;34m=\u001b[0m \u001b[0mlen\u001b[0m\u001b[0;34m(\u001b[0m\u001b[0mrace_1\u001b[0m\u001b[0;34m)\u001b[0m\u001b[0;34m\u001b[0m\u001b[0;34m\u001b[0m\u001b[0m\n\u001b[1;32m      4\u001b[0m \u001b[0mprint\u001b[0m\u001b[0;34m(\u001b[0m\u001b[0mlen_1\u001b[0m\u001b[0;34m)\u001b[0m\u001b[0;34m\u001b[0m\u001b[0;34m\u001b[0m\u001b[0m\n\u001b[1;32m      5\u001b[0m \u001b[0mlen_2\u001b[0m \u001b[0;34m=\u001b[0m \u001b[0mlen\u001b[0m\u001b[0;34m(\u001b[0m\u001b[0mrace_2\u001b[0m\u001b[0;34m)\u001b[0m\u001b[0;34m\u001b[0m\u001b[0;34m\u001b[0m\u001b[0m\n",
            "\u001b[0;31mTypeError\u001b[0m: 'numpy.ndarray' object is not callable"
          ]
        }
      ]
    },
    {
      "cell_type": "code",
      "source": [
        "len = np.array([len_0,len_1 , len_2, len_3,len_4])\n",
        "minority_race = len.min()\n",
        "print(minority_race)"
      ],
      "metadata": {
        "colab": {
          "base_uri": "https://localhost:8080/"
        },
        "id": "tCcIYd703l1K",
        "outputId": "66c4d401-6c3b-48a6-883a-f6639686050b"
      },
      "execution_count": 9,
      "outputs": [
        {
          "output_type": "stream",
          "name": "stdout",
          "text": [
            "6\n"
          ]
        }
      ]
    },
    {
      "cell_type": "code",
      "source": [
        "#step 5/1\n",
        "import numpy as np\n",
        "senior_citizens=age > 60\n",
        "senior_citizens=(data[:][age>60])\n",
        "print(senior_citizens)\n",
        "print(len(senior_citizens))\n"
      ],
      "metadata": {
        "colab": {
          "base_uri": "https://localhost:8080/",
          "height": 1000
        },
        "id": "6r3t6ZFE6Yxg",
        "outputId": "7664da40-7648-49c1-ea34-454d3ee9532a"
      },
      "execution_count": 29,
      "outputs": [
        {
          "output_type": "stream",
          "name": "stdout",
          "text": [
            "[[7.9000e+01 1.0000e+01 4.0000e+00 1.0000e+00 0.0000e+00 0.0000e+00\n",
            "  2.0000e+01 0.0000e+00]\n",
            " [6.7000e+01 6.0000e+00 4.0000e+00 1.0000e+00 0.0000e+00 0.0000e+00\n",
            "  2.0000e+00 0.0000e+00]\n",
            " [7.6000e+01 1.4000e+01 4.0000e+00 1.0000e+00 0.0000e+00 0.0000e+00\n",
            "  4.0000e+01 1.0000e+00]\n",
            " [6.1000e+01 9.0000e+00 4.0000e+00 1.0000e+00 0.0000e+00 0.0000e+00\n",
            "  4.0000e+01 0.0000e+00]\n",
            " [7.0000e+01 1.0000e+01 4.0000e+00 1.0000e+00 0.0000e+00 0.0000e+00\n",
            "  4.0000e+01 0.0000e+00]\n",
            " [6.4000e+01 7.0000e+00 4.0000e+00 1.0000e+00 0.0000e+00 2.1790e+03\n",
            "  4.0000e+01 0.0000e+00]\n",
            " [7.1000e+01 1.0000e+01 2.0000e+00 1.0000e+00 0.0000e+00 1.8160e+03\n",
            "  2.0000e+00 0.0000e+00]\n",
            " [6.8000e+01 2.0000e+00 4.0000e+00 0.0000e+00 0.0000e+00 0.0000e+00\n",
            "  2.0000e+01 0.0000e+00]\n",
            " [6.6000e+01 1.1000e+01 4.0000e+00 0.0000e+00 0.0000e+00 0.0000e+00\n",
            "  2.0000e+01 0.0000e+00]\n",
            " [6.4000e+01 2.0000e+00 4.0000e+00 1.0000e+00 0.0000e+00 0.0000e+00\n",
            "  4.0000e+01 0.0000e+00]\n",
            " [9.0000e+01 9.0000e+00 2.0000e+00 1.0000e+00 0.0000e+00 2.2060e+03\n",
            "  4.0000e+01 0.0000e+00]\n",
            " [6.6000e+01 9.0000e+00 4.0000e+00 1.0000e+00 1.4090e+03 0.0000e+00\n",
            "  5.0000e+01 0.0000e+00]\n",
            " [7.5000e+01 1.1000e+01 4.0000e+00 0.0000e+00 0.0000e+00 0.0000e+00\n",
            "  2.0000e+01 0.0000e+00]\n",
            " [6.5000e+01 9.0000e+00 4.0000e+00 0.0000e+00 0.0000e+00 0.0000e+00\n",
            "  4.0000e+01 0.0000e+00]\n",
            " [6.4000e+01 9.0000e+00 4.0000e+00 1.0000e+00 0.0000e+00 0.0000e+00\n",
            "  4.0000e+01 1.0000e+00]\n",
            " [6.1000e+01 9.0000e+00 4.0000e+00 1.0000e+00 0.0000e+00 0.0000e+00\n",
            "  4.0000e+01 1.0000e+00]\n",
            " [6.5000e+01 9.0000e+00 4.0000e+00 1.0000e+00 0.0000e+00 0.0000e+00\n",
            "  1.6000e+01 0.0000e+00]\n",
            " [7.7000e+01 1.0000e+01 4.0000e+00 1.0000e+00 0.0000e+00 0.0000e+00\n",
            "  4.0000e+01 0.0000e+00]\n",
            " [6.2000e+01 9.0000e+00 4.0000e+00 0.0000e+00 0.0000e+00 0.0000e+00\n",
            "  2.4000e+01 0.0000e+00]\n",
            " [7.6000e+01 1.4000e+01 4.0000e+00 1.0000e+00 0.0000e+00 0.0000e+00\n",
            "  1.0000e+01 0.0000e+00]\n",
            " [6.3000e+01 9.0000e+00 4.0000e+00 1.0000e+00 0.0000e+00 0.0000e+00\n",
            "  4.5000e+01 0.0000e+00]\n",
            " [6.6000e+01 9.0000e+00 4.0000e+00 1.0000e+00 2.0500e+03 0.0000e+00\n",
            "  5.5000e+01 0.0000e+00]\n",
            " [6.7000e+01 7.0000e+00 4.0000e+00 1.0000e+00 0.0000e+00 0.0000e+00\n",
            "  8.0000e+00 0.0000e+00]\n",
            " [6.5000e+01 7.0000e+00 3.0000e+00 1.0000e+00 0.0000e+00 0.0000e+00\n",
            "  4.0000e+01 0.0000e+00]\n",
            " [6.2000e+01 1.4000e+01 4.0000e+00 1.0000e+00 0.0000e+00 0.0000e+00\n",
            "  4.0000e+01 1.0000e+00]\n",
            " [6.3000e+01 9.0000e+00 4.0000e+00 1.0000e+00 0.0000e+00 0.0000e+00\n",
            "  4.0000e+01 1.0000e+00]\n",
            " [8.0000e+01 9.0000e+00 4.0000e+00 1.0000e+00 0.0000e+00 0.0000e+00\n",
            "  2.4000e+01 0.0000e+00]\n",
            " [6.7000e+01 1.1000e+01 4.0000e+00 0.0000e+00 0.0000e+00 0.0000e+00\n",
            "  2.4000e+01 0.0000e+00]\n",
            " [6.3000e+01 2.0000e+00 4.0000e+00 1.0000e+00 0.0000e+00 0.0000e+00\n",
            "  3.5000e+01 0.0000e+00]\n",
            " [7.2000e+01 9.0000e+00 4.0000e+00 1.0000e+00 0.0000e+00 0.0000e+00\n",
            "  2.0000e+01 0.0000e+00]\n",
            " [6.2000e+01 9.0000e+00 4.0000e+00 1.0000e+00 0.0000e+00 0.0000e+00\n",
            "  4.0000e+01 0.0000e+00]\n",
            " [7.4000e+01 1.0000e+01 4.0000e+00 0.0000e+00 0.0000e+00 0.0000e+00\n",
            "  9.0000e+00 0.0000e+00]\n",
            " [6.7000e+01 1.5000e+01 4.0000e+00 1.0000e+00 2.0051e+04 0.0000e+00\n",
            "  4.8000e+01 1.0000e+00]\n",
            " [7.2000e+01 7.0000e+00 4.0000e+00 0.0000e+00 0.0000e+00 0.0000e+00\n",
            "  4.0000e+01 0.0000e+00]\n",
            " [6.9000e+01 7.0000e+00 4.0000e+00 0.0000e+00 0.0000e+00 0.0000e+00\n",
            "  4.0000e+01 0.0000e+00]\n",
            " [6.5000e+01 1.0000e+01 4.0000e+00 1.0000e+00 0.0000e+00 0.0000e+00\n",
            "  3.0000e+01 1.0000e+00]\n",
            " [6.5000e+01 5.0000e+00 2.0000e+00 0.0000e+00 0.0000e+00 0.0000e+00\n",
            "  2.4000e+01 0.0000e+00]\n",
            " [7.1000e+01 9.0000e+00 4.0000e+00 1.0000e+00 0.0000e+00 0.0000e+00\n",
            "  1.5000e+01 0.0000e+00]\n",
            " [7.0000e+01 5.0000e+00 4.0000e+00 0.0000e+00 1.1110e+03 0.0000e+00\n",
            "  1.5000e+01 0.0000e+00]\n",
            " [6.6000e+01 4.0000e+00 4.0000e+00 1.0000e+00 0.0000e+00 0.0000e+00\n",
            "  4.0000e+00 0.0000e+00]\n",
            " [6.5000e+01 7.0000e+00 4.0000e+00 1.0000e+00 9.3860e+03 0.0000e+00\n",
            "  5.9000e+01 1.0000e+00]\n",
            " [6.1000e+01 9.0000e+00 4.0000e+00 1.0000e+00 0.0000e+00 2.3520e+03\n",
            "  5.0000e+01 0.0000e+00]\n",
            " [6.1000e+01 9.0000e+00 4.0000e+00 1.0000e+00 0.0000e+00 0.0000e+00\n",
            "  4.0000e+01 0.0000e+00]\n",
            " [6.8000e+01 7.0000e+00 4.0000e+00 1.0000e+00 0.0000e+00 0.0000e+00\n",
            "  2.0000e+01 0.0000e+00]\n",
            " [6.4000e+01 1.3000e+01 4.0000e+00 1.0000e+00 0.0000e+00 0.0000e+00\n",
            "  4.0000e+01 1.0000e+00]\n",
            " [6.4000e+01 9.0000e+00 4.0000e+00 1.0000e+00 0.0000e+00 0.0000e+00\n",
            "  4.5000e+01 0.0000e+00]\n",
            " [6.2000e+01 9.0000e+00 4.0000e+00 0.0000e+00 0.0000e+00 0.0000e+00\n",
            "  4.0000e+01 0.0000e+00]\n",
            " [7.3000e+01 9.0000e+00 4.0000e+00 1.0000e+00 0.0000e+00 0.0000e+00\n",
            "  4.0000e+01 0.0000e+00]\n",
            " [7.2000e+01 7.0000e+00 4.0000e+00 0.0000e+00 0.0000e+00 0.0000e+00\n",
            "  2.4000e+01 0.0000e+00]\n",
            " [6.3000e+01 9.0000e+00 4.0000e+00 1.0000e+00 0.0000e+00 0.0000e+00\n",
            "  6.0000e+00 0.0000e+00]\n",
            " [6.2000e+01 1.3000e+01 4.0000e+00 0.0000e+00 0.0000e+00 0.0000e+00\n",
            "  4.8000e+01 0.0000e+00]\n",
            " [6.1000e+01 1.4000e+01 4.0000e+00 0.0000e+00 0.0000e+00 0.0000e+00\n",
            "  4.0000e+01 1.0000e+00]\n",
            " [7.1000e+01 1.4000e+01 4.0000e+00 1.0000e+00 1.0605e+04 0.0000e+00\n",
            "  4.0000e+01 1.0000e+00]\n",
            " [6.3000e+01 1.0000e+01 4.0000e+00 1.0000e+00 0.0000e+00 0.0000e+00\n",
            "  1.5000e+01 0.0000e+00]\n",
            " [6.3000e+01 4.0000e+00 4.0000e+00 1.0000e+00 0.0000e+00 0.0000e+00\n",
            "  5.5000e+01 0.0000e+00]\n",
            " [6.7000e+01 9.0000e+00 1.0000e+00 1.0000e+00 0.0000e+00 0.0000e+00\n",
            "  4.0000e+01 1.0000e+00]\n",
            " [8.1000e+01 9.0000e+00 4.0000e+00 1.0000e+00 0.0000e+00 0.0000e+00\n",
            "  3.0000e+01 0.0000e+00]\n",
            " [6.4000e+01 9.0000e+00 4.0000e+00 1.0000e+00 0.0000e+00 0.0000e+00\n",
            "  5.0000e+00 0.0000e+00]\n",
            " [6.7000e+01 1.3000e+01 4.0000e+00 1.0000e+00 0.0000e+00 2.3920e+03\n",
            "  4.0000e+01 1.0000e+00]\n",
            " [7.8000e+01 9.0000e+00 2.0000e+00 0.0000e+00 2.9640e+03 0.0000e+00\n",
            "  4.0000e+01 0.0000e+00]\n",
            " [6.3000e+01 1.1000e+01 4.0000e+00 0.0000e+00 0.0000e+00 0.0000e+00\n",
            "  2.0000e+01 0.0000e+00]]\n"
          ]
        },
        {
          "output_type": "error",
          "ename": "TypeError",
          "evalue": "ignored",
          "traceback": [
            "\u001b[0;31m---------------------------------------------------------------------------\u001b[0m",
            "\u001b[0;31mTypeError\u001b[0m                                 Traceback (most recent call last)",
            "\u001b[0;32m<ipython-input-29-19a5a2e9bc37>\u001b[0m in \u001b[0;36m<module>\u001b[0;34m()\u001b[0m\n\u001b[1;32m      4\u001b[0m \u001b[0msenior_citizens\u001b[0m\u001b[0;34m=\u001b[0m\u001b[0;34m(\u001b[0m\u001b[0mdata\u001b[0m\u001b[0;34m[\u001b[0m\u001b[0;34m:\u001b[0m\u001b[0;34m]\u001b[0m\u001b[0;34m[\u001b[0m\u001b[0mage\u001b[0m\u001b[0;34m>\u001b[0m\u001b[0;36m60\u001b[0m\u001b[0;34m]\u001b[0m\u001b[0;34m)\u001b[0m\u001b[0;34m\u001b[0m\u001b[0;34m\u001b[0m\u001b[0m\n\u001b[1;32m      5\u001b[0m \u001b[0mprint\u001b[0m\u001b[0;34m(\u001b[0m\u001b[0msenior_citizens\u001b[0m\u001b[0;34m)\u001b[0m\u001b[0;34m\u001b[0m\u001b[0;34m\u001b[0m\u001b[0m\n\u001b[0;32m----> 6\u001b[0;31m \u001b[0mprint\u001b[0m\u001b[0;34m(\u001b[0m\u001b[0mlen\u001b[0m\u001b[0;34m(\u001b[0m\u001b[0msenior_citizens\u001b[0m\u001b[0;34m)\u001b[0m\u001b[0;34m)\u001b[0m\u001b[0;34m\u001b[0m\u001b[0;34m\u001b[0m\u001b[0m\n\u001b[0m",
            "\u001b[0;31mTypeError\u001b[0m: 'numpy.ndarray' object is not callable"
          ]
        }
      ]
    },
    {
      "cell_type": "code",
      "source": [
        "#step5/2\n",
        "working_hours = data[:,6]\n",
        "working_hours_sum = working_hours.sum()\n",
        "print(working_hours_sum)\n"
      ],
      "metadata": {
        "id": "5ndiFlBg8GF4",
        "colab": {
          "base_uri": "https://localhost:8080/"
        },
        "outputId": "04827831-8d42-44e7-a3a9-bc0fac22bc44"
      },
      "execution_count": 22,
      "outputs": [
        {
          "output_type": "stream",
          "name": "stdout",
          "text": [
            "39876.0\n"
          ]
        }
      ]
    },
    {
      "cell_type": "code",
      "source": [
        "avg_working_hours = working_hours_sum /len(senior_citizens)"
      ],
      "metadata": {
        "id": "B9znht4iCtqm",
        "colab": {
          "base_uri": "https://localhost:8080/",
          "height": 165
        },
        "outputId": "cb1f4e4c-49f6-4062-ac91-a1ac23746ad7"
      },
      "execution_count": 26,
      "outputs": [
        {
          "output_type": "error",
          "ename": "TypeError",
          "evalue": "ignored",
          "traceback": [
            "\u001b[0;31m---------------------------------------------------------------------------\u001b[0m",
            "\u001b[0;31mTypeError\u001b[0m                                 Traceback (most recent call last)",
            "\u001b[0;32m<ipython-input-26-59351e6f6f8d>\u001b[0m in \u001b[0;36m<module>\u001b[0;34m()\u001b[0m\n\u001b[0;32m----> 1\u001b[0;31m \u001b[0mavg_working_hours\u001b[0m \u001b[0;34m=\u001b[0m \u001b[0mworking_hours_sum\u001b[0m \u001b[0;34m/\u001b[0m\u001b[0mlen\u001b[0m\u001b[0;34m(\u001b[0m\u001b[0msenior_citizens\u001b[0m\u001b[0;34m)\u001b[0m\u001b[0;34m\u001b[0m\u001b[0;34m\u001b[0m\u001b[0m\n\u001b[0m",
            "\u001b[0;31mTypeError\u001b[0m: 'numpy.ndarray' object is not callable"
          ]
        }
      ]
    },
    {
      "cell_type": "code",
      "source": [
        ""
      ],
      "metadata": {
        "id": "P5lJgLXZDExr"
      },
      "execution_count": 17,
      "outputs": []
    },
    {
      "cell_type": "code",
      "source": [
        ""
      ],
      "metadata": {
        "id": "37WxRZalHyjx"
      },
      "execution_count": 17,
      "outputs": []
    },
    {
      "cell_type": "code",
      "source": [
        ""
      ],
      "metadata": {
        "id": "dQCZMD5GHyNM"
      },
      "execution_count": 17,
      "outputs": []
    },
    {
      "cell_type": "code",
      "source": [
        ""
      ],
      "metadata": {
        "id": "wCBIYpTtHyc7"
      },
      "execution_count": 17,
      "outputs": []
    },
    {
      "cell_type": "code",
      "source": [
        ""
      ],
      "metadata": {
        "id": "qOXqp2fMHygM"
      },
      "execution_count": 17,
      "outputs": []
    },
    {
      "cell_type": "code",
      "source": [
        ""
      ],
      "metadata": {
        "id": "FQgPpGOsJosj"
      },
      "execution_count": 17,
      "outputs": []
    },
    {
      "cell_type": "code",
      "source": [
        ""
      ],
      "metadata": {
        "id": "5hvw2MW1Bicx"
      },
      "execution_count": 17,
      "outputs": []
    }
  ]
}