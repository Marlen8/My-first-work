{
  "nbformat": 4,
  "nbformat_minor": 0,
  "metadata": {
    "colab": {
      "name": "Untitled1.ipynb",
      "provenance": []
    },
    "kernelspec": {
      "name": "python3",
      "display_name": "Python 3"
    },
    "language_info": {
      "name": "python"
    }
  },
  "cells": [
    {
      "cell_type": "code",
      "execution_count": null,
      "metadata": {
        "colab": {
          "base_uri": "https://localhost:8080/",
          "height": 130
        },
        "id": "hw7uxgghYkFe",
        "outputId": "39b7011e-af12-4039-ce54-d4a33d1f35cc"
      },
      "outputs": [
        {
          "output_type": "error",
          "ename": "IndentationError",
          "evalue": "ignored",
          "traceback": [
            "\u001b[0;36m  File \u001b[0;32m\"<ipython-input-9-ab188e4dd3a8>\"\u001b[0;36m, line \u001b[0;32m18\u001b[0m\n\u001b[0;31m    a = (car_info_dict.values)\u001b[0m\n\u001b[0m    ^\u001b[0m\n\u001b[0;31mIndentationError\u001b[0m\u001b[0;31m:\u001b[0m unexpected indent\n"
          ]
        }
      ],
      "source": [
        "# create dictionary \n",
        "car_info_dict = {\n",
        "  \"brand\": \"Ford\", # key-value pair #1\n",
        "  \"model\": \"Mustang\", # key-value pair #2\n",
        "  \"year\": 1964 # key-value pair #3\n",
        "}\n",
        "\n",
        "# check the dictionary \n",
        "print(car_info_dict)\n",
        "\n",
        "# change the value for year  \n",
        "car_info_dict[\"year\"] = 2018 \n",
        "\n",
        "# check the dictionary \n",
        "print(car_info_dict)\n",
        "type(car_info_dict)\n",
        "car_info_dict.keys()\n",
        "#  a = (car_info_dict.values)\n",
        "#  b = (car_info_dict.entry)\n",
        "#  c = (car_info_dict.value)\n",
        " print(a)\n",
        " print(b)\n",
        " print(c)"
      ]
    },
    {
      "cell_type": "code",
      "source": [
        "# create an empty class called `Person`\n",
        "# (NOTE: class names always begin with a capital letter!)\n",
        "class Person:\n",
        "    def say():\n",
        "      print('Hey masih...') # empty block\n",
        "\n",
        "# Create object `p` from class `Person`\n",
        "p = Person()\n",
        "\n",
        "# Print `p` \n",
        "print(p)"
      ],
      "metadata": {
        "colab": {
          "base_uri": "https://localhost:8080/"
        },
        "id": "XuTLGR3XcLDp",
        "outputId": "446ef999-c0a2-4494-b73b-ed1d3465133d"
      },
      "execution_count": null,
      "outputs": [
        {
          "output_type": "stream",
          "name": "stdout",
          "text": [
            "<__main__.Person object at 0x7f2113337c90>\n"
          ]
        }
      ]
    },
    {
      "cell_type": "code",
      "source": [
        "class Marlen:\n",
        "  def say(jesus):\n",
        "    print('Hey masih......')\n",
        "\n",
        "\n",
        "  def greet(jesus):\n",
        "    print('Hey marlen good morning...')\n",
        "\n",
        "\n",
        "p = Marlen()\n",
        "\n",
        "p.say()\n",
        "\n",
        "p.greet()"
      ],
      "metadata": {
        "id": "7NbdV0ZAcdYS"
      },
      "execution_count": null,
      "outputs": []
    },
    {
      "cell_type": "code",
      "source": [
        "class Person:\n",
        "  def  __init__ (self,name,age):\n",
        "      self.name = name\n",
        "      self.age = age\n",
        "\n",
        "\n",
        "\n",
        "  def say_hi(self):\n",
        "    print(\"Hello, my name is\" , self.name)\n",
        "    print('Hello, my age is', self.age)\n",
        "\n",
        "p = Person(\"Jill\",20)\n",
        "p.say_hi()\n",
        "\n",
        "m = Person('marlen',19)\n",
        "m.say_hi() "
      ],
      "metadata": {
        "colab": {
          "base_uri": "https://localhost:8080/"
        },
        "id": "FhEcjOYihBgF",
        "outputId": "7332b10a-50f1-4493-ca9a-55bd281270cb"
      },
      "execution_count": null,
      "outputs": [
        {
          "output_type": "stream",
          "name": "stdout",
          "text": [
            "Hello, my name is Jill\n",
            "Hello, my age is 20\n",
            "Hello, my name is marlen\n",
            "Hello, my age is 19\n"
          ]
        }
      ]
    },
    {
      "cell_type": "code",
      "source": [
        "## Encapsulation Example \n",
        "\n",
        "# initialize a new class \n",
        "class Robot:\n",
        "\n",
        "  # constructor function\n",
        "   def __init__(self):\n",
        "      self.a = 123 # public object variable\n",
        "      self._b = 123 # private object variable (by convention - not a hard variable)\n",
        "      self.__c = 123 # Python enforced private variable\n",
        "\n",
        "# instantiate a new object \n",
        "new_robot = Robot()\n",
        "\n",
        "\n",
        "print(new_robot.a) # publicly accessible\n",
        "print(new_robot._b) # publicly accessible, but private by convention\n",
        "print(new_robot.__c) # Python enforced private variable, access throws"
      ],
      "metadata": {
        "id": "ZXNtJ3_CMZ75",
        "outputId": "95a59845-52b1-40c9-ee76-48b6e783dbe9",
        "colab": {
          "base_uri": "https://localhost:8080/",
          "height": 235
        }
      },
      "execution_count": null,
      "outputs": [
        {
          "output_type": "stream",
          "name": "stdout",
          "text": [
            "123\n",
            "123\n"
          ]
        },
        {
          "output_type": "error",
          "ename": "AttributeError",
          "evalue": "ignored",
          "traceback": [
            "\u001b[0;31m---------------------------------------------------------------------------\u001b[0m",
            "\u001b[0;31mAttributeError\u001b[0m                            Traceback (most recent call last)",
            "\u001b[0;32m<ipython-input-10-2f760e1384da>\u001b[0m in \u001b[0;36m<module>\u001b[0;34m()\u001b[0m\n\u001b[1;32m     16\u001b[0m \u001b[0mprint\u001b[0m\u001b[0;34m(\u001b[0m\u001b[0mnew_robot\u001b[0m\u001b[0;34m.\u001b[0m\u001b[0ma\u001b[0m\u001b[0;34m)\u001b[0m \u001b[0;31m# publicly accessible\u001b[0m\u001b[0;34m\u001b[0m\u001b[0;34m\u001b[0m\u001b[0m\n\u001b[1;32m     17\u001b[0m \u001b[0mprint\u001b[0m\u001b[0;34m(\u001b[0m\u001b[0mnew_robot\u001b[0m\u001b[0;34m.\u001b[0m\u001b[0m_b\u001b[0m\u001b[0;34m)\u001b[0m \u001b[0;31m# publicly accessible, but private by convention\u001b[0m\u001b[0;34m\u001b[0m\u001b[0;34m\u001b[0m\u001b[0m\n\u001b[0;32m---> 18\u001b[0;31m \u001b[0mprint\u001b[0m\u001b[0;34m(\u001b[0m\u001b[0mnew_robot\u001b[0m\u001b[0;34m.\u001b[0m\u001b[0m__c\u001b[0m\u001b[0;34m)\u001b[0m \u001b[0;31m# Python enforced private variable, access throws\u001b[0m\u001b[0;34m\u001b[0m\u001b[0;34m\u001b[0m\u001b[0m\n\u001b[0m",
            "\u001b[0;31mAttributeError\u001b[0m: 'Robot' object has no attribute '__c'"
          ]
        }
      ]
    },
    {
      "cell_type": "code",
      "source": [
        "x = input('write something')"
      ],
      "metadata": {
        "colab": {
          "base_uri": "https://localhost:8080/"
        },
        "id": "MJxZJ3x9jTeD",
        "outputId": "d49c93e7-e3cb-46ad-b5b8-9f2354f8b457"
      },
      "execution_count": null,
      "outputs": [
        {
          "name": "stdout",
          "output_type": "stream",
          "text": [
            "write somethinghiii\n"
          ]
        }
      ]
    },
    {
      "cell_type": "code",
      "source": [
        "pi_value = 3.14\n",
        "print(\"The value of Pi is {} \".format(pi_value))\n"
      ],
      "metadata": {
        "colab": {
          "base_uri": "https://localhost:8080/"
        },
        "id": "wJNsaCKVTZq1",
        "outputId": "96623a37-0fed-462d-8ef5-f4a24e8a38e4"
      },
      "execution_count": null,
      "outputs": [
        {
          "output_type": "stream",
          "name": "stdout",
          "text": [
            "The value of Pi is 3.14 \n"
          ]
        }
      ]
    },
    {
      "cell_type": "code",
      "source": [
        ""
      ],
      "metadata": {
        "id": "NXBCGiB0TlZy"
      },
      "execution_count": null,
      "outputs": []
    },
    {
      "cell_type": "code",
      "source": [
        "# Docstrings Example\n",
        "\n",
        "def is_even(num):\n",
        "  # Docstring\n",
        "  \"\"\"\n",
        "  Input: an integer\n",
        "  Output: if input is even (True for even, False for not)\n",
        "  \"\"\"\n",
        "  return num % 2 == 0\n",
        "\n",
        "help(is_even)"
      ],
      "metadata": {
        "colab": {
          "base_uri": "https://localhost:8080/"
        },
        "id": "jbK8Cs2XBJhF",
        "outputId": "a7463523-e173-4f0a-cd3f-3fe268bec793"
      },
      "execution_count": null,
      "outputs": [
        {
          "output_type": "stream",
          "name": "stdout",
          "text": [
            "Help on function is_even in module __main__:\n",
            "\n",
            "is_even(num)\n",
            "    Input: an integer\n",
            "    Output: if input is even (True for even, False for not)\n",
            "\n"
          ]
        }
      ]
    },
    {
      "cell_type": "code",
      "source": [
        "# Define a class called Robot\n",
        "class Robot:\n",
        "  \"\"\"Represents a robot, with a name.\"\"\" # Docstrings\n",
        "\n",
        "  # Class Variable: population\n",
        "  population = 0\n",
        "\n",
        "  # Constructor Function: __init__()\n",
        "  def __init__(self, name):\n",
        "      \"\"\"Initializes the data.\"\"\" # Docstrings\n",
        "      self.name = name # Object Variable\n",
        "      print(\"(Initializing {})\".format(self.name))\n",
        "\n",
        "      # When a new robot is created, the robot\n",
        "      # adds to the population\n",
        "      Robot.population += 1\n",
        "\n",
        "  # Object Method: die()\n",
        "  def die(self):\n",
        "      \"\"\"I am dying.\"\"\" # Docstrings\n",
        "      print(\"{} is being destroyed!\".format(self.name))\n",
        "\n",
        "      Robot.population -= 1\n",
        "\n",
        "      if Robot.population == 0:\n",
        "          print(\"{} was the last one.\".format(self.name))\n",
        "      else:\n",
        "          print(\"There are still {:d} robots working.\".format(\n",
        "              Robot.population))\n",
        "\n",
        "  # Object Method: say_hi()\n",
        "  def say_hi(self):\n",
        "      \"\"\"Greeting by the robot. \n",
        "      Yeah, they can do that.\"\"\" # Docstrings\n",
        "      print(\"Greetings, my masters call me {}.\".format(self.name))\n",
        "\n",
        "  # Class Method: how_many() \n",
        "  @classmethod\n",
        "  def how_many(cls):\n",
        "      \"\"\"Prints the current population.\"\"\" # Docstrings\n",
        "      print(\"We have {:d} robots.\".format(cls.population))\n"
      ],
      "metadata": {
        "id": "OiwSf7_FUIHL"
      },
      "execution_count": null,
      "outputs": []
    },
    {
      "cell_type": "code",
      "source": [
        "droid1 = Robot(\"R2-D2\")\n",
        "droid1.say_hi()\n",
        "Robot.how_many()\n"
      ],
      "metadata": {
        "colab": {
          "base_uri": "https://localhost:8080/"
        },
        "id": "IWJUdhF1g6Qq",
        "outputId": "62ab393b-f06b-453c-c22b-84d810048c22"
      },
      "execution_count": null,
      "outputs": [
        {
          "output_type": "stream",
          "name": "stdout",
          "text": [
            "(Initializing R2-D2)\n",
            "Greetings, my masters call me R2-D2.\n",
            "We have -18 robots.\n"
          ]
        }
      ]
    },
    {
      "cell_type": "code",
      "source": [
        "droid2 = Robot(\"Samia\")\n",
        "droid2.say_hi()\n",
        "Robot.how_many()"
      ],
      "metadata": {
        "colab": {
          "base_uri": "https://localhost:8080/"
        },
        "id": "CdMn0GB2hMEU",
        "outputId": "60385141-a0dc-422e-bda9-e82c70bac7e9"
      },
      "execution_count": null,
      "outputs": [
        {
          "output_type": "stream",
          "name": "stdout",
          "text": [
            "(Initializing Samia)\n",
            "Greetings, my masters call me Samia.\n",
            "We have -17 robots.\n"
          ]
        }
      ]
    },
    {
      "cell_type": "code",
      "source": [
        "print(\"\\nRobots can do some work here.\\n\")\n"
      ],
      "metadata": {
        "colab": {
          "base_uri": "https://localhost:8080/"
        },
        "id": "MNXnGGjihr3b",
        "outputId": "a58ebe3c-c994-45b6-f44a-c8dd536fd69c"
      },
      "execution_count": null,
      "outputs": [
        {
          "output_type": "stream",
          "name": "stdout",
          "text": [
            "\n",
            "Robots can do some work here.\n",
            "\n"
          ]
        }
      ]
    },
    {
      "cell_type": "code",
      "source": [
        "print(\"Robots have finished their work. So let's destroy them.\")\n"
      ],
      "metadata": {
        "colab": {
          "base_uri": "https://localhost:8080/"
        },
        "id": "O_ZavyeahzkF",
        "outputId": "32d01f52-9271-4a13-a1c4-585ae531cbe4"
      },
      "execution_count": null,
      "outputs": [
        {
          "output_type": "stream",
          "name": "stdout",
          "text": [
            "Robots have finished their work. So let's destroy them.\n"
          ]
        }
      ]
    },
    {
      "cell_type": "code",
      "source": [
        "droid1.die()\n",
        "droid2.die()\n",
        "\n",
        "# Call the Class Function\n",
        "Robot.how_many()"
      ],
      "metadata": {
        "colab": {
          "base_uri": "https://localhost:8080/"
        },
        "id": "hy1YZGeJh3U3",
        "outputId": "72afb14e-7a23-42b7-ef43-15c11dcb63eb"
      },
      "execution_count": null,
      "outputs": [
        {
          "output_type": "stream",
          "name": "stdout",
          "text": [
            "R2-D2 is being destroyed!\n",
            "There are still -22 robots working.\n",
            "Samia is being destroyed!\n",
            "There are still -23 robots working.\n",
            "We have -23 robots.\n"
          ]
        }
      ]
    },
    {
      "cell_type": "code",
      "source": [
        ""
      ],
      "metadata": {
        "id": "W7z0w_KM2CZb"
      },
      "execution_count": null,
      "outputs": []
    },
    {
      "cell_type": "code",
      "source": [
        "class Schoolmember:\n",
        "  def __init__ (self,name,age):\n",
        "    self.name = name\n",
        "    self.age = age\n",
        "    print('(Initialized schoolmember :{})'.format(self.name))\n",
        "  def tell(self):\n",
        "    ''' Tell my details.'''\n",
        "    print('Name:\"{}\" Age:\"{}\" '.format(self.name , self.age), end=\"\")"
      ],
      "metadata": {
        "id": "axbQCl0flYLO"
      },
      "execution_count": null,
      "outputs": []
    },
    {
      "cell_type": "code",
      "source": [
        "class Teacher(Schoolmember):\n",
        "    '''Represents a teacher.'''\n",
        "    def __init__(self, name, age, salary):\n",
        "        Schoolmember.__init__(self, name, age)\n",
        "        self.salary = salary\n",
        "        print('(Initialized Teacher: {})'.format(self.name))\n",
        "\n",
        "    def tell(self):\n",
        "        Schoolmember.tell(self)\n",
        "        print('Salary: \"{:d}\"'.format(self.salary))"
      ],
      "metadata": {
        "id": "a2j6jAlct97x"
      },
      "execution_count": null,
      "outputs": []
    },
    {
      "cell_type": "code",
      "source": [
        "class Student(Schoolmember):\n",
        "    '''Represents a student.'''\n",
        "    def __init__(self, name, age, grade):\n",
        "        Schoolmember.__init__(self, name, age)\n",
        "        self.grade = grade\n",
        "        print('(Initialized Student: {})'.format(self.name))\n",
        "\n",
        "    def tell(self):\n",
        "        Schoolmember.tell(self)\n",
        "        print('Grade: \"{:d}\"'.format(self.grade))"
      ],
      "metadata": {
        "id": "WOXtPhRLudqf"
      },
      "execution_count": null,
      "outputs": []
    },
    {
      "cell_type": "code",
      "source": [
        "t = Teacher('Mrs. Alyssa', 40, 30000)\n",
        "print()\n",
        "\n"
      ],
      "metadata": {
        "colab": {
          "base_uri": "https://localhost:8080/"
        },
        "id": "UOSBOOIKvOfw",
        "outputId": "bf540309-f47b-4d70-d94c-eb185481c0a3"
      },
      "execution_count": null,
      "outputs": [
        {
          "output_type": "stream",
          "name": "stdout",
          "text": [
            "(Initialized schoolmember :Mrs. Alyssa)\n",
            "(Initialized Teacher: Mrs. Alyssa)\n",
            "\n"
          ]
        }
      ]
    },
    {
      "cell_type": "code",
      "source": [
        "s = Student('Daniel', 25, 75)\n",
        "print()\n",
        "s.tell()\n"
      ],
      "metadata": {
        "colab": {
          "base_uri": "https://localhost:8080/"
        },
        "id": "6JJfy2-IvqpV",
        "outputId": "a0bc9589-c272-4dce-d485-ad7b54b8eeaa"
      },
      "execution_count": null,
      "outputs": [
        {
          "output_type": "stream",
          "name": "stdout",
          "text": [
            "(Initialized schoolmember :Daniel)\n",
            "(Initialized Student: Daniel)\n",
            "\n",
            "Name:\"Daniel\" Age:\"25\" Grade: \"75\"\n"
          ]
        }
      ]
    },
    {
      "cell_type": "code",
      "source": [
        "members = [t,s]\n",
        "for member in members:\n",
        "    member.tell()"
      ],
      "metadata": {
        "colab": {
          "base_uri": "https://localhost:8080/"
        },
        "id": "fWTs_uPYvxau",
        "outputId": "27856a75-dc9a-4d92-f8ba-0086796f90c8"
      },
      "execution_count": null,
      "outputs": [
        {
          "output_type": "stream",
          "name": "stdout",
          "text": [
            "Name:\"Mrs. Alyssa\" Age:\"40\" Salary: \"30000\"\n",
            "Name:\"Daniel\" Age:\"25\" Grade: \"75\"\n"
          ]
        }
      ]
    },
    {
      "cell_type": "code",
      "source": [
        "# initialize a new class \n",
        "class Robot:\n",
        "\n",
        "  # constructor function\n",
        "   def __init__(self):\n",
        "      self.a = 123 # public object variable\n",
        "      self._b = 123 # private object variable (by convention - not a hard variable)\n",
        "      self.__c = 123 # Python enforced private variable\n",
        "\n",
        "# instantiate a new object \n",
        "new_robot = Robot()\n",
        "\n",
        "\n",
        "print(new_robot.a) # publicly accessible\n",
        "print(new_robot._b) # publicly accessible, but private by convention\n",
        "print(new_robot.__c)"
      ],
      "metadata": {
        "colab": {
          "base_uri": "https://localhost:8080/",
          "height": 235
        },
        "id": "aynm_1go8B39",
        "outputId": "11135aec-d076-47b8-97a0-3ff82fafd09c"
      },
      "execution_count": null,
      "outputs": [
        {
          "output_type": "stream",
          "name": "stdout",
          "text": [
            "123\n",
            "123\n"
          ]
        },
        {
          "output_type": "error",
          "ename": "AttributeError",
          "evalue": "ignored",
          "traceback": [
            "\u001b[0;31m---------------------------------------------------------------------------\u001b[0m",
            "\u001b[0;31mAttributeError\u001b[0m                            Traceback (most recent call last)",
            "\u001b[0;32m<ipython-input-16-76dd628cca58>\u001b[0m in \u001b[0;36m<module>\u001b[0;34m()\u001b[0m\n\u001b[1;32m     14\u001b[0m \u001b[0mprint\u001b[0m\u001b[0;34m(\u001b[0m\u001b[0mnew_robot\u001b[0m\u001b[0;34m.\u001b[0m\u001b[0ma\u001b[0m\u001b[0;34m)\u001b[0m \u001b[0;31m# publicly accessible\u001b[0m\u001b[0;34m\u001b[0m\u001b[0;34m\u001b[0m\u001b[0m\n\u001b[1;32m     15\u001b[0m \u001b[0mprint\u001b[0m\u001b[0;34m(\u001b[0m\u001b[0mnew_robot\u001b[0m\u001b[0;34m.\u001b[0m\u001b[0m_b\u001b[0m\u001b[0;34m)\u001b[0m \u001b[0;31m# publicly accessible, but private by convention\u001b[0m\u001b[0;34m\u001b[0m\u001b[0;34m\u001b[0m\u001b[0m\n\u001b[0;32m---> 16\u001b[0;31m \u001b[0mprint\u001b[0m\u001b[0;34m(\u001b[0m\u001b[0mnew_robot\u001b[0m\u001b[0;34m.\u001b[0m\u001b[0m__c\u001b[0m\u001b[0;34m)\u001b[0m\u001b[0;34m\u001b[0m\u001b[0;34m\u001b[0m\u001b[0m\n\u001b[0m",
            "\u001b[0;31mAttributeError\u001b[0m: 'Robot' object has no attribute '__c'"
          ]
        }
      ]
    },
    {
      "cell_type": "code",
      "source": [
        "# initialize a new Robot class \n",
        "class Robot:\n",
        "\n",
        "  # constructor function\n",
        "  def __init__(self):\n",
        "    self.__version = 22\n",
        "\n",
        "  # getter function\n",
        "  def getVersion(self):\n",
        "    print(self.__version)\n",
        "\n",
        "  # setter function\n",
        "  def setVersion(self, version):\n",
        "    self.__version = version\n",
        "\n",
        "# instantiate a new object called 'new_robot'\n",
        "new_robot = Robot()\n",
        "\n",
        "# use the getter function\n",
        "new_robot.getVersion()\n",
        "# use the built in setter function\n",
        "new_robot.setVersion(23)\n",
        "\n",
        "# use the getter function again\n",
        "new_robot.getVersion()\n",
        "# but try accessing the private variable\n",
        "print(new_robot.__version) # throws error"
      ],
      "metadata": {
        "colab": {
          "base_uri": "https://localhost:8080/",
          "height": 235
        },
        "id": "z7sRtUjA_BMD",
        "outputId": "2459ca3d-de43-4c7b-e59d-96b898d01351"
      },
      "execution_count": null,
      "outputs": [
        {
          "output_type": "stream",
          "name": "stdout",
          "text": [
            "22\n",
            "23\n"
          ]
        },
        {
          "output_type": "error",
          "ename": "AttributeError",
          "evalue": "ignored",
          "traceback": [
            "\u001b[0;31m---------------------------------------------------------------------------\u001b[0m",
            "\u001b[0;31mAttributeError\u001b[0m                            Traceback (most recent call last)",
            "\u001b[0;32m<ipython-input-18-94240270ed63>\u001b[0m in \u001b[0;36m<module>\u001b[0;34m()\u001b[0m\n\u001b[1;32m     25\u001b[0m \u001b[0mnew_robot\u001b[0m\u001b[0;34m.\u001b[0m\u001b[0mgetVersion\u001b[0m\u001b[0;34m(\u001b[0m\u001b[0;34m)\u001b[0m\u001b[0;34m\u001b[0m\u001b[0;34m\u001b[0m\u001b[0m\n\u001b[1;32m     26\u001b[0m \u001b[0;31m# but try accessing the private variable\u001b[0m\u001b[0;34m\u001b[0m\u001b[0;34m\u001b[0m\u001b[0;34m\u001b[0m\u001b[0m\n\u001b[0;32m---> 27\u001b[0;31m \u001b[0mprint\u001b[0m\u001b[0;34m(\u001b[0m\u001b[0mnew_robot\u001b[0m\u001b[0;34m.\u001b[0m\u001b[0m__version\u001b[0m\u001b[0;34m)\u001b[0m \u001b[0;31m# throws error\u001b[0m\u001b[0;34m\u001b[0m\u001b[0;34m\u001b[0m\u001b[0m\n\u001b[0m",
            "\u001b[0;31mAttributeError\u001b[0m: 'Robot' object has no attribute '__version'"
          ]
        }
      ]
    },
    {
      "cell_type": "code",
      "source": [
        "class Employees:\n",
        "   def __init__  (self,first_name,last_name):\n",
        "     self.first_name = first_name\n",
        "     self.last_name = last_name\n",
        "     self.email = (first_name+\"\"+ last_name + \"@gmail.com\")\n",
        "     self.full_name = (first_name + \" \" + last_name)\n",
        "\n",
        "employee1 = Employees (\"John\" , \"smith\")\n",
        "print (employee1.first_name)\n",
        "print (employee1.last_name)\n",
        "print (employee1.full_name)\n",
        "print (employee1.email)\n"
      ],
      "metadata": {
        "colab": {
          "base_uri": "https://localhost:8080/"
        },
        "id": "qOLzsdKvDgGM",
        "outputId": "b71afd66-19a8-464a-8e25-a4efadb3ee70"
      },
      "execution_count": null,
      "outputs": [
        {
          "output_type": "stream",
          "name": "stdout",
          "text": [
            "John\n",
            "smith\n",
            "John smith\n",
            "Johnsmith@gmail.com\n"
          ]
        }
      ]
    },
    {
      "cell_type": "code",
      "source": [
        ""
      ],
      "metadata": {
        "id": "ZqAi8AWfDiUJ"
      },
      "execution_count": null,
      "outputs": []
    }
  ]
}